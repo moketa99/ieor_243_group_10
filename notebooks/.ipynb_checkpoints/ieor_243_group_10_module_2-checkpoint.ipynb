{
 "cells": [
  {
   "cell_type": "markdown",
   "id": "3c9c883b",
   "metadata": {},
   "source": [
    "# IEOR 243 Group 10 Module 2\n",
    "\n",
    "\n",
    "We want to address the following questions through code and our report:\n",
    "\n",
    "#### What is the goal of our models and what are you trying to achieve?\n",
    "\n",
    "Our general goal is to understand how people felt about COVID in 2020 and compare it to how people felt about COVID in 2023. We also want to be more specific than a simple sentiment analysis in which we score sentiment on a -10 to 10 scale (or something comparable). We want to be able to capture the full range of emotions that people convey about COVID. For instance, people may be sad about losing a loved one, scared about getting sick or losing money, angry (or happy) about policy created by legislators, etc. These emotions should not be abstracted into a single number necessarily. \n",
    "\n",
    "#### What models and methodologies have you used?\n",
    "\n",
    "We are in an interesting scenario because our data is *not labeled* meaning we cannot train any supervised learning models to predict sentiment, emotions, etc. We have over 100k rows so manually labeling the data is infeasible. Instead, we introduce three modeling approaches to analyze our problem.\n",
    "\n",
    "1) **K-Means Clustering**: We begin by creating a K-Means clustering algorithm on the `text` column in our data to understand the general trends of communication. \n",
    "\n",
    "    * **K-Means Clusters as Labels**: We then sample tweets from each cluster, cobmine them together, and run inference on a pre-trained summarization model to arrive as cluster descriptions to use with our Zero-Shot models later.\n",
    "\n",
    "\n",
    "2) **Zero-Shot Classification with Hugging Face SOTA**: Hugging Face hosts many open-source, pre-trained models for sentiment analysis and text-classification. We'll apply a few of these models for zero-shot classification on our data to see how it performs. This is difficult to compare to an unsupservised model, but gives us a more useful model. \n",
    "\n",
    "\n",
    "3) **Unsupervised Text Classification through Lbl2Vec**: Lbl2Vec is a rather new algorithm published in 2021 (paper: https://www.scitepress.org/Link.aspx?doi=10.5220/0010710300003058) which automatically generates jointly embedded label, document and word vectors and returns documents of categories modeled by manually predefined keywords. The key idea of the algorithm is that many semantically similar keywords can represent a category. We'll compare this to the zero-shot learning from Hugging Face, along with our K-Means clustering to see how it performsn.\n",
    "\n",
    "#### How have you selected any tuning parameters for your models (a.k.a hyperparameters)?\n",
    "\n",
    "While most supervised learning algorithms benefit greatly from using a standard K-Fold cross-validation implementation using Scikit-Learn's `GridSearchCV` object, for K-Means clustering, it's quite common to use the \"elbow method.\" Instead of directly minimizing some evaluation metric like SSE or Inertia, we instead will search over a space of reasonable values of `n_clusters` and plot the corresponding silhouette scores. We will select a quasi-optimal value of `n_clusters` by selecting the one on the \"elbow\" of the plot.\n",
    "\n",
    "#### How well does your model perform and how have you measured that?\n",
    "\n",
    "\n",
    "#### Are there any significant limitations to your modeling methods (i.e. Where, when, how, and why can your model fail? )\n"
   ]
  },
  {
   "cell_type": "code",
   "execution_count": 3,
   "id": "e25b0fe4",
   "metadata": {
    "code_folding": [
     0
    ]
   },
   "outputs": [],
   "source": [
    "# General Imports \n",
    "import pandas as pd\n",
    "import numpy as np\n",
    "import re\n",
    "import random\n",
    "import matplotlib.pyplot as plt\n",
    "from typing import List\n",
    "import time\n",
    "\n",
    "import warnings\n",
    "warnings.filterwarnings('ignore')"
   ]
  },
  {
   "cell_type": "code",
   "execution_count": 4,
   "id": "fcd68faf",
   "metadata": {
    "code_folding": [
     0
    ]
   },
   "outputs": [
    {
     "name": "stderr",
     "output_type": "stream",
     "text": [
      "[nltk_data] Downloading package stopwords to\n",
      "[nltk_data]     /Users/bennettcohen/nltk_data...\n",
      "[nltk_data]   Package stopwords is already up-to-date!\n",
      "[nltk_data] Downloading package vader_lexicon to\n",
      "[nltk_data]     /Users/bennettcohen/nltk_data...\n",
      "[nltk_data]   Package vader_lexicon is already up-to-date!\n"
     ]
    },
    {
     "data": {
      "text/plain": [
       "True"
      ]
     },
     "execution_count": 4,
     "metadata": {},
     "output_type": "execute_result"
    }
   ],
   "source": [
    "# NLTK Imports \n",
    "import nltk\n",
    "from nltk.sentiment import SentimentIntensityAnalyzer\n",
    "from nltk.corpus import stopwords\n",
    "from nltk.tokenize import word_tokenize, RegexpTokenizer\n",
    "from nltk import SnowballStemmer\n",
    "nltk.download('stopwords')\n",
    "nltk.download('vader_lexicon')"
   ]
  },
  {
   "cell_type": "code",
   "execution_count": 5,
   "id": "1a5429a2",
   "metadata": {
    "code_folding": [
     0
    ]
   },
   "outputs": [],
   "source": [
    "# Modeling Imports\n",
    "from sklearn.model_selection import train_test_split, GridSearchCV\n",
    "from sklearn.feature_extraction.text import TfidfVectorizer\n",
    "from sklearn.cluster import KMeans\n",
    "from sklearn.metrics import silhouette_score\n",
    "\n",
    "from transformers import AutoTokenizer, AutoModelForSeq2SeqLM, pipeline"
   ]
  },
  {
   "cell_type": "markdown",
   "id": "744faf40",
   "metadata": {},
   "source": [
    "## Preprocessing\n",
    "\n",
    "First, we load in the uncleaned data and apply the data cleaning steps from Module 1. Please refer to the `ieor_243_group_10_module_1.ipynb` notebook for an in-depth explanation of this process."
   ]
  },
  {
   "cell_type": "code",
   "execution_count": 6,
   "id": "562879f1",
   "metadata": {
    "code_folding": [
     0
    ]
   },
   "outputs": [],
   "source": [
    "# Load data \n",
    "parent_path = \"../data\"\n",
    "df20 = pd.read_csv(f\"{parent_path}/covid2020.csv\")\n",
    "df23 = pd.read_csv(f\"{parent_path}/covid2023.csv\")"
   ]
  },
  {
   "cell_type": "code",
   "execution_count": 7,
   "id": "85ceaeeb",
   "metadata": {
    "code_folding": [
     1,
     49,
     63,
     66,
     71,
     78
    ]
   },
   "outputs": [],
   "source": [
    "# Preprocessing Helper Functions\n",
    "def preprocess_text(text: str) -> str:\n",
    "    # convert to lowercase\n",
    "    text = text.lower()\n",
    "    \n",
    "    # remove URLs\n",
    "    text = re.sub(r\"http\\S+\", \"\", text)\n",
    "    \n",
    "    # remove numbers\n",
    "    text = re.sub(r\"\\d\", \"\", text)\n",
    "    \n",
    "    # remove punctuation\n",
    "    text = re.sub(r\"[^\\w\\s]\", \"\", text)\n",
    "    \n",
    "    # remove stopwords\n",
    "    stop_words = set(stopwords.words(\"english\"))\n",
    "    tokens = word_tokenize(text)\n",
    "    tokens = [word for word in tokens if word not in stop_words]\n",
    "    \n",
    "    # Removing extra spaces\n",
    "    text = \" \".join(tokens)\n",
    "    text = re.sub(' +', ' ', text)\n",
    "    \n",
    "    # Removing Emojis\n",
    "    text = re.sub(r'[^\\x00-\\x7F]+', '', text)\n",
    "    \n",
    "    # Removing emoticons\n",
    "    text = re.sub(r':\\w+:', '', text)\n",
    "    \n",
    "    # Removing Contractions\n",
    "    text = re.sub(r\"can\\'t\", \"can not\", text)\n",
    "    text = re.sub(r\"won\\'t\", \"will not\", text)\n",
    "    text = re.sub(r\"n\\'t\", \" not\", text)\n",
    "    text = re.sub(r\"\\'re\", \" are\", text)\n",
    "    text = re.sub(r\"\\'s\", \" is\", text)\n",
    "    text = re.sub(r\"\\'d\", \" would\", text)\n",
    "    text = re.sub(r\"\\'ll\", \" will\", text)\n",
    "    text = re.sub(r\"\\'t\", \" not\", text)\n",
    "    text = re.sub(r\"\\'ve\", \" have\", text)\n",
    "    text = re.sub(r\"\\'m\", \" am\", text)\n",
    "    \n",
    "    # Remove words that are shorter than 2 letters or longer than 20 letters\n",
    "#     text = re.sub(r'\\b\\w{1,2}\\b|\\b\\w{21,}\\b', \"\", text)\n",
    "    \n",
    "    # Remove the word \"covid\"\n",
    "#     text = re.sub(\"covid\", \"\", text)\n",
    "    \n",
    "    return text\n",
    "\n",
    "def preprocess_nulls(df: pd.DataFrame) -> pd.DataFrame: \n",
    "    \n",
    "    # Drop duplicate rows \n",
    "    df = df.drop_duplicates(subset = \"text\")\n",
    "    \n",
    "    # Drop rows with no followers \n",
    "    df = df[df['user_followers'] > 0]\n",
    "    \n",
    "    # Drop nulls and reset index \n",
    "    df = df.dropna().reset_index(drop = True)\n",
    "    \n",
    "    \n",
    "    return df\n",
    "\n",
    "def remove_emojis(column):\n",
    "    return re.sub(r'[^\\x00-\\x7F]+', '', column)\n",
    "\n",
    "def stem_text(stemmer: SnowballStemmer, text):\n",
    "    words = text.split()\n",
    "    stemmed_words = [stemmer.stem(word) for word in words]\n",
    "    return ' '.join(stemmed_words)\n",
    "\n",
    "def get_short_long_words(list_of_tokens: str):\n",
    "    two_letter_words = []\n",
    "    for token in list_of_tokens:\n",
    "        if len(token) <= 2 or len(token) >= 21:\n",
    "            two_letter_words.append(token)\n",
    "    return two_letter_words\n",
    "\n",
    "def preprocess_df(df: pd.DataFrame) -> pd.DataFrame:\n",
    "    \n",
    "    # Preprocess null and missing values \n",
    "    df = preprocess_nulls(df)\n",
    "    \n",
    "    # Preprocess text \n",
    "    df['processed_text'] = df['text'].apply(preprocess_text)\n",
    "    \n",
    "    # Remove emojis from certain columns\n",
    "    emoji_cols = ['user_name', 'user_location', 'user_description']\n",
    "    for col in emoji_cols: \n",
    "        df[col] = df[col].apply(remove_emojis)\n",
    "            \n",
    "    # Apply word stemming\n",
    "#     stemmer = SnowballStemmer(language = \"english\")\n",
    "#     df['text'] = df['text'].apply(lambda x: stem_text(stemmer = stemmer, text = x))\n",
    "    \n",
    "    return df"
   ]
  },
  {
   "cell_type": "code",
   "execution_count": 8,
   "id": "e5cc75c0",
   "metadata": {
    "code_folding": []
   },
   "outputs": [],
   "source": [
    "# Process the data and extract text columns\n",
    "df20 = preprocess_df(df20)\n",
    "df23 = preprocess_df(df23)\n",
    "\n",
    "X20 = df20['processed_text']\n",
    "X23 = df23['processed_text']"
   ]
  },
  {
   "cell_type": "markdown",
   "id": "1acb783b",
   "metadata": {},
   "source": [
    "## Tokenization"
   ]
  },
  {
   "cell_type": "code",
   "execution_count": 9,
   "id": "69c5bf89",
   "metadata": {
    "code_folding": []
   },
   "outputs": [],
   "source": [
    "# Apply a TFIDF Vectorizer (count vec with normalization) \n",
    "vectorizer = TfidfVectorizer(max_df = 0.5, min_df = 5, stop_words = 'english')\n",
    "X20_vec = vectorizer.fit_transform(X20)\n",
    "X23_vec = vectorizer.fit_transform(X23)"
   ]
  },
  {
   "cell_type": "markdown",
   "id": "64562a9c",
   "metadata": {},
   "source": [
    "## Method #1: K-Means Clustering\n",
    "\n",
    "We search over a space `n_cluster` values from 2 to 9 and use the elbow method to select the value with the highest `silhouette_score` as our final model. We then plot the results below."
   ]
  },
  {
   "cell_type": "code",
   "execution_count": 10,
   "id": "58cd642c",
   "metadata": {
    "code_folding": [
     0
    ],
    "scrolled": true
   },
   "outputs": [],
   "source": [
    "def train_kmeans(X, n_cluster_values: List[int], verbose: bool = True) -> dict: \n",
    "    \n",
    "    \"\"\"\n",
    "    Function to train KMeans and run a parameter sweep over n_cluster_values \n",
    "    Params: \n",
    "        X: data to train on\n",
    "        n_cluster_values: list of integers of the number of clusters to try\n",
    "        random_seed: random seed to pass to KMeans estimator \n",
    "        verbose: bool\n",
    "    Returns: \n",
    "        scores: dictionary of silhouette scores for each n_clusters value\n",
    "    \"\"\"\n",
    "    \n",
    "    # Search over a search space of n_cluster values \n",
    "    scores = {}\n",
    "    tic = time.time()\n",
    "    for n_clusters in n_cluster_values: \n",
    "\n",
    "        # Fit a model \n",
    "        kmeans = KMeans(n_clusters = n_clusters, random_state = 1)\n",
    "        kmeans.fit(X)\n",
    "\n",
    "\n",
    "        # Compute the silhouette score\n",
    "        score = silhouette_score(X = X, \n",
    "                                 labels = kmeans.labels_, \n",
    "                                 metric = 'euclidean'\n",
    "                                )\n",
    "        scores.update({n_clusters: score})\n",
    "\n",
    "        # Logging \n",
    "        if verbose: \n",
    "            print(f\"n_clusters: {n_clusters} -- {time.time()-tic:2f} seconds\")\n",
    "            \n",
    "    return scores"
   ]
  },
  {
   "cell_type": "code",
   "execution_count": null,
   "id": "37345727",
   "metadata": {},
   "outputs": [
    {
     "name": "stdout",
     "output_type": "stream",
     "text": [
      "n_clusters: 2 -- 261.497198 seconds\n",
      "n_clusters: 3 -- 493.354532 seconds\n",
      "n_clusters: 4 -- 655.234034 seconds\n",
      "n_clusters: 5 -- 998.278643 seconds\n",
      "n_clusters: 6 -- 1190.112508 seconds\n"
     ]
    }
   ],
   "source": [
    "# Train the KMeans Estimator \n",
    "scores = train_kmeans(X = X20_vec, \n",
    "                      n_cluster_values = list(range(2, 8)), \n",
    "                      verbose = True)"
   ]
  },
  {
   "cell_type": "code",
   "execution_count": null,
   "id": "41ab49e8",
   "metadata": {
    "code_folding": [
     0
    ]
   },
   "outputs": [],
   "source": [
    "# Plot the Silhouette score results\n",
    "fig, ax = plt.subplots(figsize = (8,5))\n",
    "\n",
    "n_cluster_vals = list(scores.keys())\n",
    "n_cluster_scores = list(scores.values())\n",
    "\n",
    "plt.plot(n_cluster_vals, n_cluster_scores)\n",
    "\n",
    "plt.title(\"Silhouette Score vs Number of Clusters\", pad = 15, fontweight = 'semibold', fontsize = 14)\n",
    "plt.xlabel(\"Number of Clusters\", fontsize = 13)\n",
    "plt.ylabel(\"Silhouette Score\", fontsize = 13)\n",
    "\n",
    "plt.xticks(n_cluster_vals, n_cluster_vals)\n",
    "plt.show()"
   ]
  },
  {
   "cell_type": "code",
   "execution_count": null,
   "id": "4acb1a16",
   "metadata": {},
   "outputs": [],
   "source": [
    "# Extract the best model and retrain it\n",
    "optimal_n_clusters = list(scores.keys())[np.argmax(list(scores.values()))]\n",
    "kmeans = KMeans(n_clusters = optimal_n_clusters, random_state = 1, max_iter = 5_000)\n",
    "kmeans.fit(X20_vec)"
   ]
  },
  {
   "cell_type": "code",
   "execution_count": null,
   "id": "8d25d21d",
   "metadata": {},
   "outputs": [],
   "source": [
    "# Add predictions to df and check the cluster distribution\n",
    "df20['cluster'] = kmeans.predict(X20_vec)\n",
    "df20['cluster'].value_counts(normalize = True)"
   ]
  },
  {
   "cell_type": "markdown",
   "id": "eb720b5e",
   "metadata": {},
   "source": [
    "## Method #1a: Using Pretrained Transformers to Generate Class Summaries\n",
    "\n",
    "Now that we have a well trained KMeans clustering algorithm, we want to understand (or label) these clusters. One common approach is to look manually and determine what each cluster entails, but we are more principled than that. Instead, we'll use a transformer-based summarization tool from Hugging Face in order to summarize what each cluster actually discusses. This will give us a clean 1 sentence summary of each cluster that we can use to contextualize our analysis.\n",
    "\n",
    "**NOTE**: We will be running the summarization on the `text` instead of the `processed_text` column because the Hugging Face models generally have their own tokenization functions. We don't want to double-tokenize."
   ]
  },
  {
   "cell_type": "code",
   "execution_count": null,
   "id": "ebfebf0b",
   "metadata": {},
   "outputs": [],
   "source": [
    "# Load in the summarizer from Hugging Face\n",
    "summarizer = pipeline(\"summarization\", model = \"facebook/bart-large-cnn\")"
   ]
  },
  {
   "cell_type": "code",
   "execution_count": 171,
   "id": "a54138a2",
   "metadata": {
    "code_folding": []
   },
   "outputs": [],
   "source": [
    "cluster_summaries = {}\n",
    "for cluster in range(kmeans.n_clusters): \n",
    "    \n",
    "    # Grab the tweets from the cluster \n",
    "    cluster_tweets = df20[df20['cluster'] == cluster]['text'].to_list()\n",
    "    \n",
    "    # Randomly Sample tweets\n",
    "    n_samples = np.minimum(len(cluster_tweets), 50)\n",
    "    sampled_tweets = random.sample(cluster_tweets, k = n_samples)\n",
    "    \n",
    "    # Join the sampled tweets \n",
    "    sampled_tweets_joined = \";\".join(sampled_tweets)\n",
    "    \n",
    "    # Run the summarizer \n",
    "    res = summarizer(sampled_tweets_joined, max_length = 25, min_length = 25, do_sample = False)\n",
    "    \n",
    "    # Update the dict \n",
    "    cluster_summaries.update({cluster: res[0]['summary_text']})"
   ]
  },
  {
   "cell_type": "code",
   "execution_count": 2,
   "id": "33e7d66b",
   "metadata": {},
   "outputs": [
    {
     "ename": "NameError",
     "evalue": "name 'df20' is not defined",
     "output_type": "error",
     "traceback": [
      "\u001b[0;31m---------------------------------------------------------------------------\u001b[0m",
      "\u001b[0;31mNameError\u001b[0m                                 Traceback (most recent call last)",
      "Cell \u001b[0;32mIn[2], line 1\u001b[0m\n\u001b[0;32m----> 1\u001b[0m \u001b[43mdf20\u001b[49m\n",
      "\u001b[0;31mNameError\u001b[0m: name 'df20' is not defined"
     ]
    }
   ],
   "source": [
    "df20"
   ]
  },
  {
   "cell_type": "markdown",
   "id": "1bc80e04",
   "metadata": {},
   "source": [
    "## Method #2: Zero-Shot Classification with Hugging Face SOTA"
   ]
  },
  {
   "cell_type": "code",
   "execution_count": null,
   "id": "d92cbf0a",
   "metadata": {},
   "outputs": [],
   "source": []
  },
  {
   "cell_type": "code",
   "execution_count": null,
   "id": "f1f4850a",
   "metadata": {},
   "outputs": [],
   "source": []
  },
  {
   "cell_type": "code",
   "execution_count": 1,
   "id": "0061e487",
   "metadata": {},
   "outputs": [
    {
     "data": {
      "text/plain": [
       "\"\\nYou are a binary classification model analyzing hotel reviews. For the following review, please determine\\nwhether the review is classified by the term'good cleanliness'. You only need to return a True or False. No other\\ninformation is needed.\\n\""
      ]
     },
     "execution_count": 1,
     "metadata": {},
     "output_type": "execute_result"
    }
   ],
   "source": [
    "f\"\"\"\n",
    "You are a binary classification model analyzing hotel reviews. For the following review, please determine\n",
    "whether the review is classified by the term'good cleanliness'. You only need to return a True or False. No other\n",
    "information is needed.\n",
    "\n",
    "Here is the review: {review}\n",
    "\"\"\""
   ]
  },
  {
   "cell_type": "markdown",
   "id": "239339a6",
   "metadata": {},
   "source": [
    "## Method #3: Unsupervised Text Classification through Lbl2Vec"
   ]
  },
  {
   "cell_type": "code",
   "execution_count": null,
   "id": "aaf2c713",
   "metadata": {},
   "outputs": [],
   "source": []
  },
  {
   "cell_type": "code",
   "execution_count": null,
   "id": "7437a034",
   "metadata": {},
   "outputs": [],
   "source": []
  },
  {
   "cell_type": "code",
   "execution_count": null,
   "id": "538068d0",
   "metadata": {},
   "outputs": [],
   "source": []
  }
 ],
 "metadata": {
  "kernelspec": {
   "display_name": "Python 3 (ipykernel)",
   "language": "python",
   "name": "python3"
  },
  "language_info": {
   "codemirror_mode": {
    "name": "ipython",
    "version": 3
   },
   "file_extension": ".py",
   "mimetype": "text/x-python",
   "name": "python",
   "nbconvert_exporter": "python",
   "pygments_lexer": "ipython3",
   "version": "3.10.9"
  }
 },
 "nbformat": 4,
 "nbformat_minor": 5
}
